{
 "cells": [
  {
   "cell_type": "markdown",
   "metadata": {},
   "source": [
    "# Notebook Imports"
   ]
  },
  {
   "cell_type": "code",
   "execution_count": 4,
   "metadata": {},
   "outputs": [],
   "source": [
    "import pandas as pd\n",
    "import numpy as np\n",
    "import matplotlib.pyplot as plt\n",
    "import seaborn as sns\n",
    "\n",
    "%matplotlib inline"
   ]
  },
  {
   "cell_type": "markdown",
   "metadata": {},
   "source": [
    "# Constants"
   ]
  },
  {
   "cell_type": "code",
   "execution_count": 5,
   "metadata": {},
   "outputs": [],
   "source": [
    "TOKEN_SPAM_PROB_FILE = 'SpamData/03_Testing/prob_spam.txt'\n",
    "TOKEN_NOSPAM_PROB_FILE = 'SpamData/03_Testing/prob_nospam.txt'\n",
    "TOKEN_ALL_PROB_FILE = 'SpamData/03_Testing/prob_all_tokens.txt'\n",
    "\n",
    "TEST_FEATURE_FILE = 'SpamData/03_Testing/test-features.txt'\n",
    "TEST_TARGET_FILE = 'SpamData/03_Testing/test-target.txt'\n",
    "\n",
    "\n",
    "\n",
    "VOCAB_SIZE = 2500"
   ]
  },
  {
   "cell_type": "markdown",
   "metadata": {},
   "source": [
    "# Load the data"
   ]
  },
  {
   "cell_type": "code",
   "execution_count": 8,
   "metadata": {},
   "outputs": [],
   "source": [
    "#Feature\n",
    "X_test = np.loadtxt(TEST_FEATURE_FILE,delimiter=' ')\n",
    "#Target\n",
    "y_test = np.loadtxt(TEST_TARGET_FILE,delimiter=' ')\n",
    "#Probabilities\n",
    "prob_token_spam = np.loadtxt(TOKEN_SPAM_PROB_FILE, delimiter=' ')\n",
    "prob_token_nospam = np.loadtxt(TOKEN_NOSPAM_PROB_FILE, delimiter=' ')\n",
    "prob_token_all = np.loadtxt(TOKEN_ALL_PROB_FILE, delimiter=' ')"
   ]
  },
  {
   "cell_type": "code",
   "execution_count": 10,
   "metadata": {},
   "outputs": [
    {
     "data": {
      "text/plain": [
       "array([[0., 0., 0., ..., 0., 0., 0.],\n",
       "       [0., 2., 1., ..., 0., 0., 0.],\n",
       "       [3., 0., 1., ..., 0., 0., 0.],\n",
       "       [5., 1., 2., ..., 0., 0., 0.],\n",
       "       [1., 2., 0., ..., 0., 0., 0.]])"
      ]
     },
     "execution_count": 10,
     "metadata": {},
     "output_type": "execute_result"
    }
   ],
   "source": [
    "X_test[:5]"
   ]
  },
  {
   "cell_type": "markdown",
   "metadata": {},
   "source": [
    "# Set the prior"
   ]
  },
  {
   "cell_type": "code",
   "execution_count": 11,
   "metadata": {},
   "outputs": [],
   "source": [
    "PROB_SPAM = 0.3116"
   ]
  },
  {
   "cell_type": "code",
   "execution_count": 12,
   "metadata": {},
   "outputs": [
    {
     "data": {
      "text/plain": [
       "array([-4.71228902, -5.31908269, -4.9921103 , ..., -9.19754891,\n",
       "       -8.69677362, -9.48523098])"
      ]
     },
     "execution_count": 12,
     "metadata": {},
     "output_type": "execute_result"
    }
   ],
   "source": [
    "np.log(prob_token_spam)"
   ]
  },
  {
   "cell_type": "markdown",
   "metadata": {},
   "source": [
    "## Joint probability in log format"
   ]
  },
  {
   "cell_type": "markdown",
   "metadata": {},
   "source": [
    "## Calculate the probability\n",
    "### $$P(Spam \\, | \\,X) = \\frac{P(X \\, | \\, Spam) P(Spam)}{P(X)}$$\n",
    "## In log fomat\n",
    "\n",
    "### $$P(Spam \\, | \\,X) = P(X \\, | \\, Spam) - P(X) + P(Spam)$$"
   ]
  },
  {
   "cell_type": "code",
   "execution_count": 31,
   "metadata": {},
   "outputs": [],
   "source": [
    "#La probabilidad de que un mail sea spam segun su token\n",
    "joint_log_spam = X_test.dot(np.log(prob_token_spam) - np.log(prob_token_all)) + np.log(PROB_SPAM)"
   ]
  },
  {
   "cell_type": "code",
   "execution_count": 32,
   "metadata": {},
   "outputs": [
    {
     "data": {
      "text/plain": [
       "array([  3.23601561,  13.54690923,  19.22022405, -16.82311432,\n",
       "        28.09250676])"
      ]
     },
     "execution_count": 32,
     "metadata": {},
     "output_type": "execute_result"
    }
   ],
   "source": [
    "joint_log_spam[:5]"
   ]
  },
  {
   "cell_type": "code",
   "execution_count": 33,
   "metadata": {},
   "outputs": [],
   "source": [
    "#Probabilidad de que un email NO sea spam segun su token\n",
    "joint_log_ham = X_test.dot(np.log(prob_token_nospam) - np.log(prob_token_all)) + np.log(1 - PROB_SPAM)"
   ]
  },
  {
   "cell_type": "code",
   "execution_count": 34,
   "metadata": {},
   "outputs": [
    {
     "data": {
      "text/plain": [
       "array([-11.04643297, -37.24645987, -38.19431329,  -2.68388872,\n",
       "       -60.20626921])"
      ]
     },
     "execution_count": 34,
     "metadata": {},
     "output_type": "execute_result"
    }
   ],
   "source": [
    "joint_log_ham[:5]"
   ]
  },
  {
   "cell_type": "markdown",
   "metadata": {},
   "source": [
    "# Making predictions\n",
    "\n",
    "### Checking for higher joint probability \n",
    "$$ P(Spam | X) > P(Ham|X)$$\n",
    "## <center>OR </center>\n",
    "$$ P(Spam | X) < P(Ham|X)$$"
   ]
  },
  {
   "cell_type": "code",
   "execution_count": 35,
   "metadata": {},
   "outputs": [],
   "source": [
    "#Calculamos si cada mail es spam o no. Spam = True\n",
    "prediction = joint_log_spam > joint_log_ham"
   ]
  },
  {
   "cell_type": "code",
   "execution_count": 41,
   "metadata": {},
   "outputs": [
    {
     "data": {
      "text/plain": [
       "array([ True,  True,  True, False,  True])"
      ]
     },
     "execution_count": 41,
     "metadata": {},
     "output_type": "execute_result"
    }
   ],
   "source": [
    "#Los primero 5 mails SI son spam\n",
    "prediction[:5]"
   ]
  },
  {
   "cell_type": "code",
   "execution_count": 141,
   "metadata": {},
   "outputs": [
    {
     "data": {
      "text/plain": [
       "array([1., 1., 1., 1., 1.])"
      ]
     },
     "execution_count": 141,
     "metadata": {},
     "output_type": "execute_result"
    }
   ],
   "source": [
    "#Coincide con la data que teniamos ya que 1 = spam\n",
    "y_test[:5]"
   ]
  },
  {
   "cell_type": "markdown",
   "metadata": {},
   "source": [
    "## Simplificar"
   ]
  },
  {
   "cell_type": "code",
   "execution_count": 42,
   "metadata": {},
   "outputs": [],
   "source": [
    "#Podemos siplificar ya que en ambos lados estamos dividiendo por p(X), así que podemos eliminar esto\n",
    "joint_log_spam = X_test.dot(np.log(prob_token_spam)) + np.log(PROB_SPAM)\n",
    "joint_log_ham = X_test.dot(np.log(prob_token_nospam)) + np.log(1 - PROB_SPAM)\n"
   ]
  },
  {
   "cell_type": "markdown",
   "metadata": {},
   "source": [
    "# Metrics and evaluation\n",
    "\n",
    "### Accuracy"
   ]
  },
  {
   "cell_type": "code",
   "execution_count": 50,
   "metadata": {},
   "outputs": [
    {
     "name": "stdout",
     "output_type": "stream",
     "text": [
      "Number of correctly calssified emails: 1668\n",
      "Number of incorrectly calssified emails: 54\n"
     ]
    }
   ],
   "source": [
    "incorrect_classified_emails = (y_test != prediction).sum()\n",
    "correct_classified_emails = (y_test == prediction).sum()\n",
    "print('Number of correctly calssified emails:',correct_classified_emails)\n",
    "print('Number of incorrectly calssified emails:',incorrect_classified_emails)"
   ]
  },
  {
   "cell_type": "code",
   "execution_count": 61,
   "metadata": {},
   "outputs": [
    {
     "name": "stdout",
     "output_type": "stream",
     "text": [
      "The acccuracy of the model is: 96.86%\n"
     ]
    }
   ],
   "source": [
    "#Accuracy: Correct prerdictions/total predictions\n",
    "print('The acccuracy of the model is: {:.2%}'.format(correct_classified_emails/len(X_test)))"
   ]
  },
  {
   "cell_type": "markdown",
   "metadata": {},
   "source": [
    "# Visualising the results with PLT"
   ]
  },
  {
   "cell_type": "code",
   "execution_count": 88,
   "metadata": {},
   "outputs": [
    {
     "data": {
      "image/png": "[encoded data removed]",
      "text/plain": [
       "<Figure size 1152x504 with 2 Axes>"
      ]
     },
     "metadata": {
      "needs_background": "light"
     },
     "output_type": "display_data"
    }
   ],
   "source": [
    "# Chart Styling info\n",
    "yaxis_label = 'P(X | Spam)'\n",
    "xaxis_label = 'P(X | Nonspam)'\n",
    "\n",
    "plt.figure(figsize=(16,7))\n",
    "plt.xlabel(xaxis_label, fontsize=14)\n",
    "plt.ylabel(yaxis_label, fontsize=14)\n",
    "\n",
    "#Chart Nr. 1\n",
    "plt.subplot(1,2,1)\n",
    "\n",
    "#Set scale\n",
    "plt.xlim([-14000,1])\n",
    "plt.ylim([-14000,1])\n",
    "\n",
    "#Adding the decition baundary line\n",
    "linedata = np.linspace(start=-14000,stop=1,num=1000)\n",
    "plt.plot(linedata,linedata,color='orange')\n",
    "\n",
    "#Adding the scatter point\n",
    "plt.scatter(joint_log_ham,joint_log_spam,color='navy',s=25,alpha=0.5)\n",
    "\n",
    "#Chart Nr. 2\n",
    "plt.subplot(1,2,2)\n",
    "\n",
    "#Set scale\n",
    "plt.xlim([-2000,1])\n",
    "plt.ylim([-2000,1])\n",
    "\n",
    "#Adding the decition baundary line\n",
    "linedata = np.linspace(start=-14000,stop=1,num=1000)\n",
    "plt.plot(linedata,linedata,color='orange')\n",
    "\n",
    "#Adding the scatter point\n",
    "plt.scatter(joint_log_ham,joint_log_spam,color='navy',s=3,alpha=0.5)\n",
    "\n",
    "\n",
    "plt.show()"
   ]
  },
  {
   "cell_type": "markdown",
   "metadata": {},
   "source": [
    "# Visualising with Seaborn"
   ]
  },
  {
   "cell_type": "code",
   "execution_count": null,
   "metadata": {},
   "outputs": [],
   "source": [
    "#Chart Styling\n",
    "sns.set_style('whitegrid')\n",
    "labels = 'Actual Category'\n",
    "\n",
    "#Creating the data\n",
    "summary_df = pd.DataFrame({yaxis_label : joint_log_spam,xaxis_label:joint_log_ham,labels:y_test})\n",
    "\n",
    "\n",
    "#Ploting the scatter points\n",
    "sns.lmplot(x=xaxis_label,y=yaxis_label,data= summary_df,height=6.5,fit_reg=False,legend=False,\n",
    "          scatter_kws={'alpha':0.7,'s':25},hue=label\\ s,markers=['o','x'],palette='hls')\n",
    "\n",
    "#Setting the scale\n",
    "plt.xlim([-500,1])\n",
    "plt.ylim([-500,1])\n",
    "\n",
    "#Plotting the decition baudary line\n",
    "plt.plot(linedata,linedata,color='black')\n",
    "\n",
    "#Setting the lengend style\n",
    "plt.legend(('Decition Boundary','No Spam','Spam'),loc='lower right',fontsize=14)\n",
    "\n",
    "plt.show()"
   ]
  },
  {
   "cell_type": "markdown",
   "metadata": {},
   "source": [
    "# False Positives and False Negatives"
   ]
  },
  {
   "cell_type": "code",
   "execution_count": 118,
   "metadata": {},
   "outputs": [
    {
     "data": {
      "text/plain": [
       "(array([False,  True]), array([1167,  555]))"
      ]
     },
     "execution_count": 118,
     "metadata": {},
     "output_type": "execute_result"
    }
   ],
   "source": [
    "np.unique(prediction,return_counts=True)"
   ]
  },
  {
   "cell_type": "code",
   "execution_count": 120,
   "metadata": {},
   "outputs": [
    {
     "data": {
      "text/plain": [
       "544"
      ]
     },
     "execution_count": 120,
     "metadata": {},
     "output_type": "execute_result"
    }
   ],
   "source": [
    "#Checar cuantos mails sí estaban bien clasificados\n",
    "true_pos = (y_test == 1) & (prediction == 1)\n",
    "true_pos.sum()"
   ]
  },
  {
   "cell_type": "code",
   "execution_count": 132,
   "metadata": {},
   "outputs": [
    {
     "data": {
      "text/plain": [
       "11"
      ]
     },
     "execution_count": 132,
     "metadata": {},
     "output_type": "execute_result"
    }
   ],
   "source": [
    "#Checar cuandos NO Spam emails fueron clasificados como spam\n",
    "false_pos = (y_test == 0) & (prediction == 1)\n",
    "false_pos.sum()"
   ]
  },
  {
   "cell_type": "code",
   "execution_count": 133,
   "metadata": {},
   "outputs": [
    {
     "data": {
      "text/plain": [
       "43"
      ]
     },
     "execution_count": 133,
     "metadata": {},
     "output_type": "execute_result"
    }
   ],
   "source": [
    "#Checar cuantos mails eran spam y pasaron como No Spam\n",
    "false_neg = (y_test == 1) & (prediction == 0)\n",
    "false_neg.sum()"
   ]
  },
  {
   "cell_type": "markdown",
   "metadata": {},
   "source": [
    "# Recall Score & presitin Metric"
   ]
  },
  {
   "cell_type": "code",
   "execution_count": 134,
   "metadata": {},
   "outputs": [
    {
     "name": "stdout",
     "output_type": "stream",
     "text": [
      "The recall score is: 92.67%\n"
     ]
    }
   ],
   "source": [
    "recall_score = true_pos.sum() / (true_pos.sum()+false_neg.sum())\n",
    "print('The recall score is: {:.2%}'.format(recall_score))"
   ]
  },
  {
   "cell_type": "code",
   "execution_count": 136,
   "metadata": {},
   "outputs": [
    {
     "name": "stdout",
     "output_type": "stream",
     "text": [
      "The recall score is: 98.02%\n"
     ]
    }
   ],
   "source": [
    "presition_score = true_pos.sum() / (true_pos.sum()+false_pos.sum())\n",
    "print('The Pesition metric is: {:.2%}'.format(presition_score))"
   ]
  },
  {
   "cell_type": "markdown",
   "metadata": {},
   "source": [
    "# F1 Score"
   ]
  },
  {
   "cell_type": "code",
   "execution_count": 139,
   "metadata": {},
   "outputs": [
    {
     "name": "stdout",
     "output_type": "stream",
     "text": [
      "The F1 Score is: 95.27%\n"
     ]
    }
   ],
   "source": [
    "f1_score = 2*((recall_score*presition_score)/(recall_score+presition_score))\n",
    "print('The F1 Score is: {:.2%}'.format(f1_score))"
   ]
  },
  {
   "cell_type": "code",
   "execution_count": null,
   "metadata": {},
   "outputs": [],
   "source": []
  }
 ],
 "metadata": {
  "kernelspec": {
   "display_name": "Python 3",
   "language": "python",
   "name": "python3"
  },
  "language_info": {
   "codemirror_mode": {
    "name": "ipython",
    "version": 3
   },
   "file_extension": ".py",
   "mimetype": "text/x-python",
   "name": "python",
   "nbconvert_exporter": "python",
   "pygments_lexer": "ipython3",
   "version": "3.7.4"
  }
 },
 "nbformat": 4,
 "nbformat_minor": 2
}
